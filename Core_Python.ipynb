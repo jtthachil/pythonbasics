{
  "nbformat": 4,
  "nbformat_minor": 0,
  "metadata": {
    "kernelspec": {
      "display_name": "Python 3",
      "language": "python",
      "name": "python3"
    },
    "language_info": {
      "codemirror_mode": {
        "name": "ipython",
        "version": 3
      },
      "file_extension": ".py",
      "mimetype": "text/x-python",
      "name": "python",
      "nbconvert_exporter": "python",
      "pygments_lexer": "ipython3",
      "version": "3.7.3"
    },
    "colab": {
      "provenance": [],
      "include_colab_link": true
    }
  },
  "cells": [
    {
      "cell_type": "markdown",
      "metadata": {
        "id": "view-in-github",
        "colab_type": "text"
      },
      "source": [
        "<a href=\"https://colab.research.google.com/github/jtthachil/pythonbasics/blob/main/Core_Python.ipynb\" target=\"_parent\"><img src=\"https://colab.research.google.com/assets/colab-badge.svg\" alt=\"Open In Colab\"/></a>"
      ]
    },
    {
      "cell_type": "markdown",
      "metadata": {
        "id": "KEw61Ym9imOb"
      },
      "source": [
        "# Python is Not a Snake!\n",
        "*20th September 2021 @ Plaksha TLF*\n",
        "\n",
        "The original version of these notes was written by Rajath Kumar: https://github.com/rajathkumarmp/Python-Lectures.\n",
        "**This version is circulated to TLF'22; intended to be used as a syntax cheatsheet.** Please refer accompanying email.\n"
      ]
    },
    {
      "cell_type": "markdown",
      "metadata": {
        "id": "YBEuKpZ4imOg"
      },
      "source": [
        "## Introduction\n",
        "\n",
        "**Dislcaimer:** These notebooks would only contain code portions and explanations might not be suffice to understand underlying concepts behind them as they were left for live discussion in the workshop.\n",
        "\n",
        "To give an indication of what Python code looks like, here is a simple bit of code that defines a set $N=\\{1,3,4,5,7\\}$ and calculates the *sum of the squared elements of this set*."
      ]
    },
    {
      "cell_type": "code",
      "metadata": {
        "id": "qCqKj6HbimOm",
        "outputId": "5563c975-ad03-42e5-b70d-7adc8279058a"
      },
      "source": [
        "N = {1, 2, 4, 5, 7}\n",
        "print('The sum of ∑_i∈N i*i =', sum(i**2 for i in N))"
      ],
      "execution_count": null,
      "outputs": [
        {
          "name": "stdout",
          "output_type": "stream",
          "text": [
            "The sum of ∑_i∈N i*i = 95\n"
          ]
        }
      ]
    },
    {
      "cell_type": "markdown",
      "metadata": {
        "id": "Z0X0o3PzimOu"
      },
      "source": [
        "## Getting started\n",
        "\n",
        "Python can be used like a calculator. Simply type in expressions to get them evaluated!\n",
        "\n",
        "### Basic Syntax for Statements\n",
        "The basic rules for writing simple statments and expressions in Python are:\n",
        "- No spaces or tab characters allowed at the start of a statement: Indentation plays a special role in Python.\n",
        "- The '#' character indicates that the rest of the line is a comment.\n",
        "- Statements finish at the end of the line.\n",
        "\n",
        "```python\n",
        "1+2\n",
        "+3  #illegal continuation of the sum\n",
        "\n",
        "(1+2\n",
        "         + 3) #perfectly OK even with spaces\n",
        "```\n",
        "- A single backslash at the end of the line can also be used to indicate that a statement is still incomplete  \n",
        "\n",
        "```python\n",
        "1 + \\\n",
        "2 + 3 #this is also OK\n",
        "```"
      ]
    },
    {
      "cell_type": "code",
      "metadata": {
        "id": "KUIawF9GimOw",
        "outputId": "53210bb2-c41c-4bae-f825-4d1a69eed926"
      },
      "source": [
        "1 + 2 \\\n",
        "+ 2 \\\n",
        "+ 9"
      ],
      "execution_count": null,
      "outputs": [
        {
          "data": {
            "text/plain": [
              "14"
            ]
          },
          "execution_count": 5,
          "metadata": {},
          "output_type": "execute_result"
        }
      ]
    },
    {
      "cell_type": "markdown",
      "metadata": {
        "id": "l3m6VzpTimO0"
      },
      "source": [
        "Python has extensive help built in. You can execute **`help()`** for an overview or **`help(x)`** for any library, object or type **`x`** to get more information."
      ]
    },
    {
      "cell_type": "code",
      "metadata": {
        "id": "cLggLh6cimO3",
        "outputId": "67c0d46a-a9bd-4f5e-b59b-636c01524aed"
      },
      "source": [
        "a =2\n",
        "print (\"Hello World!\", a)"
      ],
      "execution_count": null,
      "outputs": [
        {
          "name": "stdout",
          "output_type": "stream",
          "text": [
            "Hello World! 2\n"
          ]
        }
      ]
    },
    {
      "cell_type": "markdown",
      "metadata": {
        "collapsed": true,
        "id": "1-zO4p_limO8"
      },
      "source": [
        "## Variables & Values"
      ]
    },
    {
      "cell_type": "code",
      "metadata": {
        "id": "V1niIwVOimO9",
        "outputId": "113fc6e4-2c6d-4a8f-c3bd-42d8ca506ddd"
      },
      "source": [
        "x = 2\n",
        "y = 3\n",
        "xy = \"String\"\n",
        "print(x, y, xy)"
      ],
      "execution_count": null,
      "outputs": [
        {
          "name": "stdout",
          "output_type": "stream",
          "text": [
            "2 3 String\n"
          ]
        }
      ]
    },
    {
      "cell_type": "code",
      "metadata": {
        "id": "zJHirdO6imO_",
        "outputId": "ffcc84a2-f26b-4d10-9f6b-b6564b5c4985"
      },
      "source": [
        "# DataTypes in Python\n",
        "2.0           # A simple floating point number\n",
        "1e100         # A googol\n",
        "-1234567890   # An integer\n",
        "True or False # The two possible boolean values\n",
        "\n",
        "'This is a string'\n",
        "\"It's another string\"\n",
        "\n",
        "print(\"\"\"Triple quotes (also with '''), allow strings to break over multiple lines.\n",
        "Alternatively \\n is a newline character (\\t for tab, \\\\ is a single backslash)\"\"\")"
      ],
      "execution_count": null,
      "outputs": [
        {
          "name": "stdout",
          "output_type": "stream",
          "text": [
            "Triple quotes (also with '''), allow strings to break over multiple lines.\n",
            "Alternatively \n",
            " is a newline character (\t for tab, \\ is a single backslash)\n"
          ]
        }
      ]
    },
    {
      "cell_type": "code",
      "metadata": {
        "id": "mQvxt3H1imPF",
        "outputId": "b9dd8113-e4b2-4142-e803-238cbf7f8ffc"
      },
      "source": [
        "# Complex Numbers\n",
        "complex(1,2)\n",
        "(1+2j)"
      ],
      "execution_count": null,
      "outputs": [
        {
          "data": {
            "text/plain": [
              "(1+2j)"
            ]
          },
          "execution_count": 4,
          "metadata": {},
          "output_type": "execute_result"
        }
      ]
    },
    {
      "cell_type": "code",
      "metadata": {
        "id": "f5rC4xYIimPI",
        "outputId": "aacc8c5b-4eed-4801-8520-10bafd07875e"
      },
      "source": [
        "# Type of Object\n",
        "print(type(a))\n",
        "print(type(xy))"
      ],
      "execution_count": null,
      "outputs": [
        {
          "name": "stdout",
          "output_type": "stream",
          "text": [
            "<class 'int'>\n",
            "<class 'str'>\n"
          ]
        }
      ]
    },
    {
      "cell_type": "code",
      "metadata": {
        "id": "JBk-K3qHe-2D"
      },
      "source": [
        "def sum_pranav (a, b, c):\n",
        "    \"\"\"This is a function to add two numbers.\n",
        "    Input: a, b --> two numbers\n",
        "    Output: Sum\"\"\"\n",
        "    return (a+b)"
      ],
      "execution_count": null,
      "outputs": []
    },
    {
      "cell_type": "code",
      "metadata": {
        "colab": {
          "base_uri": "https://localhost:8080/"
        },
        "id": "MA8zOmMqfQFP",
        "outputId": "b6044819-234e-4cd4-9cda-da85b1362ae6"
      },
      "source": [
        "help(sum_pranav)"
      ],
      "execution_count": null,
      "outputs": [
        {
          "output_type": "stream",
          "name": "stdout",
          "text": [
            "Help on function sum_pranav in module __main__:\n",
            "\n",
            "sum_pranav(a, b)\n",
            "    This is a function to add two numbers. \n",
            "    Input: a, b --> two numbers\n",
            "    Output: Sum\n",
            "\n"
          ]
        }
      ]
    },
    {
      "cell_type": "markdown",
      "metadata": {
        "id": "p0npkU1SimPL"
      },
      "source": [
        "## Operators\n",
        "\n",
        "### Arithmetic Operators\n",
        "\n",
        "| Symbol | Task Performed |\n",
        "|----|---|\n",
        "| +  | Addition |\n",
        "| -  | Subtraction |\n",
        "| /  | Division |\n",
        "| %  | Mod |\n",
        "| *  | Multiplication |\n",
        "| // | Floor Division |\n",
        "| ** | To the power of |"
      ]
    },
    {
      "cell_type": "markdown",
      "metadata": {
        "id": "WE-chGJYimPM"
      },
      "source": [
        "- The expressions follow BODMAS\n",
        "- (Nearly) infinite length integers available\n",
        "- Double precision floating point numbers\n",
        "\n",
        "Float Point Error"
      ]
    },
    {
      "cell_type": "code",
      "metadata": {
        "id": "cJayDap4imPP",
        "outputId": "da69c005-8481-4b21-8af0-dc9f1abe2581"
      },
      "source": [
        "99**300"
      ],
      "execution_count": null,
      "outputs": [
        {
          "data": {
            "text/plain": [
              "49040894071285855907267629419665531560409085391180248883921073573306048939227974547115509665384086736500599668199981778188931055596735292182136217471426489520494125357372319909368974274669601243767211060505337895113870635615769109291155549880976347074904878440690342614010138987446741353620751068747707415863644340623434378919367761822813871609346916133592074704352486404702230757544853398631335935809851253145165608597892489539258274169458339670731225266897071034919031916788165783359888004889067286753117473861218906534549225681685509175753149314655967521172034675666199679568333661399062848470001"
            ]
          },
          "execution_count": 17,
          "metadata": {},
          "output_type": "execute_result"
        }
      ]
    },
    {
      "cell_type": "markdown",
      "metadata": {
        "id": "kcbcBB_AimPV"
      },
      "source": [
        "### Relational Operators\n",
        "\n",
        "| Symbol | Task Performed |\n",
        "|----|---|\n",
        "| == | True, if it is equal |\n",
        "| !=  | True, if not equal to |\n",
        "| < | Less Than |\n",
        "| > | Greater Than |\n",
        "| <=  | Less Than or Equal To |\n",
        "| >=  | Greater Than or Equal To |"
      ]
    },
    {
      "cell_type": "markdown",
      "metadata": {
        "id": "Vef5jzBWimPX"
      },
      "source": [
        "Comparisons can also be chained in the mathematically obvious way.\n",
        "\n",
        "```python\n",
        "-3 * 4\n",
        "z = 2\n",
        "if(0.5 < z <= 1):\n",
        "# Returns False\n",
        "```"
      ]
    },
    {
      "cell_type": "markdown",
      "metadata": {
        "id": "aYQ6WahnimPb"
      },
      "source": [
        "### Boolean and Bitwise Operators\n",
        "\n",
        "|Operator|Meaning | | Symbol | Task Performed |\n",
        "|----|--- | |----|---|\n",
        "|`and`| Logical and | | &  | Bitwise And |\n",
        "|`or` | Logical or | | $\\mid$  | Bitwise OR |\n",
        "| | | |  ^  | Exclusive or |\n",
        "|`not` | Not | | ~  | Negate |\n",
        "| | | |  >>  | Right shift |\n",
        "| | | |  <<  | Left shift |"
      ]
    },
    {
      "cell_type": "code",
      "metadata": {
        "id": "-iYXB_VyimPe",
        "colab": {
          "base_uri": "https://localhost:8080/"
        },
        "outputId": "ef620092-140d-4fd5-fcf9-cc030c26f73b"
      },
      "source": [
        "a = 2 # Binary: 10\n",
        "b = 3 # Binary: 11\n",
        "\n",
        "Pranav = True\n",
        "Wants_to_go_home = False\n",
        "hungry = True\n",
        "\n",
        "print('a & b =', a & b, \"=\", bin(a&b))\n",
        "print('a | b =', a | b, \"=\", bin(a|b))\n",
        "print('a ^ b =', a ^ b, \"=\", bin(a^b))\n",
        "\n",
        "if not(Pranav is hungry and Wants_to_go_home):\n",
        "    print(not(True and False), \"==\", not True or not False)"
      ],
      "execution_count": null,
      "outputs": [
        {
          "output_type": "stream",
          "name": "stdout",
          "text": [
            "a & b = 2 = 0b10\n",
            "a | b = 3 = 0b11\n",
            "a ^ b = 1 = 0b1\n",
            "True == True\n"
          ]
        }
      ]
    },
    {
      "cell_type": "markdown",
      "metadata": {
        "id": "6LAbKT8CimPg"
      },
      "source": [
        "### Built-in Functions\n",
        "\n",
        "Python comes with a wide range of functions. However many of these are part of stanard libraries like the `math` library rather than built-in."
      ]
    },
    {
      "cell_type": "markdown",
      "metadata": {
        "id": "ZQkKEjwtimPh"
      },
      "source": [
        "#### Converting Values\n",
        "\n",
        "Conversion from hexadecimal to decimal is done by adding prefix **`0x`** to the hexadecimal value or vice versa by using built in **`hex()`**."
      ]
    },
    {
      "cell_type": "code",
      "metadata": {
        "id": "ubUIZO4SimPj",
        "outputId": "2916cb61-8bce-4a23-9b8e-883a9f2ee6d0"
      },
      "source": [
        "print(hex(170))\n",
        "print(0xAA)"
      ],
      "execution_count": null,
      "outputs": [
        {
          "name": "stdout",
          "output_type": "stream",
          "text": [
            "0xaa\n",
            "170\n"
          ]
        }
      ]
    },
    {
      "cell_type": "markdown",
      "metadata": {
        "id": "zNrSwRM5imPk"
      },
      "source": [
        "**`int()`** converts a number to an integer. This can be a single floating point number, integer or a string. For strings, the base can optionally be specified. Similarly, the function **`str()`** can be used to convert almost anything to a string."
      ]
    },
    {
      "cell_type": "code",
      "metadata": {
        "id": "_5XxzTSQimPm",
        "outputId": "e7707525-b6fa-4929-caa1-d0017e2474dd"
      },
      "source": [
        "print(int(7.7), int('111', 2), int('7'))\n",
        "print(str(True), str(1.2345678), str(-2))"
      ],
      "execution_count": null,
      "outputs": [
        {
          "name": "stdout",
          "output_type": "stream",
          "text": [
            "7 7 7\n",
            "True 1.2345678 -2\n"
          ]
        }
      ]
    },
    {
      "cell_type": "markdown",
      "metadata": {
        "id": "pUmCnY4cimPp"
      },
      "source": [
        "#### Mathematical Functions\n",
        "\n",
        "Mathematical functions include the usual suspects like logarithms, trigonometric fuctions, the constant $\\pi$ and so on.\n",
        "\n",
        "Full Documentation: https://docs.python.org/3/library/math.html"
      ]
    },
    {
      "cell_type": "code",
      "metadata": {
        "id": "zpvfKZBQimPt",
        "outputId": "d73dd510-3016-4d10-dd25-ade961f38bf2"
      },
      "source": [
        "import math\n",
        "print(math.sin(math.pi/2))\n",
        "\n",
        "from math import *\n",
        "print(sin(pi/2))"
      ],
      "execution_count": null,
      "outputs": [
        {
          "name": "stdout",
          "output_type": "stream",
          "text": [
            "1.0\n",
            "1.0\n"
          ]
        }
      ]
    },
    {
      "cell_type": "code",
      "metadata": {
        "id": "nM8HJQiximPu",
        "outputId": "ef19a046-6705-4a47-b38f-a889f358be14"
      },
      "source": [
        "# Rounding Off\n",
        "print(round(5.6231))\n",
        "print(round(5.25, 1))\n",
        "\n",
        "# Complex No. & Absolute Value\n",
        "c = complex('5+2j')\n",
        "#print(abs(c))\n",
        "\n",
        "# Quotient and Remainder\n",
        "#print(divmod(9,2))"
      ],
      "execution_count": null,
      "outputs": [
        {
          "name": "stdout",
          "output_type": "stream",
          "text": [
            "6\n",
            "5.2\n"
          ]
        }
      ]
    },
    {
      "cell_type": "markdown",
      "metadata": {
        "id": "jTbdc6mDimPv"
      },
      "source": [
        "## Accepting User Inputs\n",
        "\n",
        "**`input(prompt)`**,  prompts for and returns input as a string. A useful function to use in conjunction with this is **`eval()`** which takes a string and evaluates it as a python expression."
      ]
    },
    {
      "cell_type": "code",
      "metadata": {
        "id": "7dnn9zeuimPx",
        "outputId": "f6f3d56b-d6c5-4a2e-a284-884137ff69ac"
      },
      "source": [
        "abc =  input(\"Number = \")\n",
        "result = abc + abc\n",
        "print(abc, '=', result)"
      ],
      "execution_count": null,
      "outputs": [
        {
          "name": "stdout",
          "output_type": "stream",
          "text": [
            "Number = a\n",
            "a = aa\n"
          ]
        }
      ]
    },
    {
      "cell_type": "code",
      "metadata": {
        "id": "yba38zGMimPy",
        "outputId": "ce2e31ad-8d2a-4dcb-ffbb-76d46c8a28b0"
      },
      "source": [
        "x = input(\"Enter a No\")"
      ],
      "execution_count": null,
      "outputs": [
        {
          "name": "stdout",
          "output_type": "stream",
          "text": [
            "Enter a No5\n"
          ]
        }
      ]
    },
    {
      "cell_type": "code",
      "metadata": {
        "id": "ZRnr-0Y5imP0",
        "outputId": "c3b81f24-9cf2-408c-e593-01a83f3e6546"
      },
      "source": [
        "type(x)"
      ],
      "execution_count": null,
      "outputs": [
        {
          "data": {
            "text/plain": [
              "str"
            ]
          },
          "execution_count": 26,
          "metadata": {},
          "output_type": "execute_result"
        }
      ]
    },
    {
      "cell_type": "code",
      "metadata": {
        "id": "ZDYvIRU0imP1",
        "outputId": "3bfa49d5-ff3c-4970-e656-80ec74b2516b"
      },
      "source": [
        "int(x) * 3"
      ],
      "execution_count": null,
      "outputs": [
        {
          "data": {
            "text/plain": [
              "15"
            ]
          },
          "execution_count": 29,
          "metadata": {},
          "output_type": "execute_result"
        }
      ]
    },
    {
      "cell_type": "markdown",
      "metadata": {
        "id": "fx2mQvrNimP2"
      },
      "source": [
        "## Working with Strings\n",
        "\n",
        "### The Print Statement\n",
        "As seen previously, The **print()** function prints all of its arguments as strings, separated by spaces and follows by a linebreak:\n",
        "\n",
        "    - print(\"Hello World\")\n",
        "    - print(\"Hello\",'World')\n",
        "    - print(\"Hello\", <Variable Containing the String>)\n",
        "\n",
        "Note that **print** is different in old versions of Python (2.7) where it was a statement and did not need parenthesis around its arguments."
      ]
    },
    {
      "cell_type": "code",
      "metadata": {
        "id": "gUu8vzT4imP-",
        "outputId": "f3aea20d-3d6b-438e-87ee-a0e4036e92dc"
      },
      "source": [
        "print(\"Hello\", \"World\")\n",
        "print(\"Hello\", \"World\", Pranav_Suri.txt"
      ],
      "execution_count": null,
      "outputs": [
        {
          "name": "stdout",
          "output_type": "stream",
          "text": [
            "Hello World\n",
            "Hello World\n"
          ]
        }
      ]
    },
    {
      "cell_type": "markdown",
      "metadata": {
        "id": "GTH6arZRimQD"
      },
      "source": [
        "### Pretty Printing"
      ]
    },
    {
      "cell_type": "code",
      "metadata": {
        "id": "acKsE2A9imQI",
        "outputId": "87d3b0f5-46ee-401c-e91b-ef2b02a00274"
      },
      "source": [
        "# String Concatenation\n",
        "string1='World'\n",
        "string2='!'\n",
        "print('Hello' + string1 + string2)"
      ],
      "execution_count": null,
      "outputs": [
        {
          "name": "stdout",
          "output_type": "stream",
          "text": [
            "HelloWorld!\n"
          ]
        }
      ]
    },
    {
      "cell_type": "markdown",
      "metadata": {
        "id": "VzgtEUZiimQJ"
      },
      "source": [
        "The **%** operator is used to format a string inserting the value that comes after. It relies on the string containing a format specifier that identifies where to insert the value. The most common types of format specifiers are:\n",
        "    - %s -> string\n",
        "    - %d -> Integer\n",
        "    - %f -> Float\n",
        "    - %o -> Octal\n",
        "    - %x -> Hexadecimal\n",
        "    - %e -> exponential"
      ]
    },
    {
      "cell_type": "code",
      "metadata": {
        "id": "29hL_WPqimQK",
        "outputId": "282e99d3-80dd-4e9d-b35d-646547d3b99c"
      },
      "source": [
        "print(\"Hello %s\" % string1)\n",
        "print(\"Actual Number = %d\" %18)\n",
        "print(\"Float of the number = %f\" %18)\n",
        "print(\"Octal equivalent of the number = %o\" %18)\n",
        "print(\"Hexadecimal equivalent of the number = %x\" %18)\n",
        "print(\"Exponential equivalent of the number = %e\" %18)"
      ],
      "execution_count": null,
      "outputs": [
        {
          "name": "stdout",
          "output_type": "stream",
          "text": [
            "Hello 18\n",
            "Actual Number = 18\n",
            "Float of the number = 18.000000\n",
            "Octal equivalent of the number = 22\n",
            "Hexadecimal equivalent of the number = 12\n",
            "Exponential equivalent of the number = 1.800000e+01\n"
          ]
        }
      ]
    },
    {
      "cell_type": "code",
      "metadata": {
        "id": "zeHtAOx7imQM",
        "outputId": "4c8462be-b06c-428d-9023-29371f44e4c5"
      },
      "source": [
        "string1 = 18\n",
        "print(\"Hello %d\" % string1)"
      ],
      "execution_count": null,
      "outputs": [
        {
          "name": "stdout",
          "output_type": "stream",
          "text": [
            "Hello 18\n"
          ]
        }
      ]
    },
    {
      "cell_type": "markdown",
      "metadata": {
        "id": "qyJFge_bimQO"
      },
      "source": [
        "When referring to multiple variables parenthesis is used. Values are inserted in the order they appear in the paranthesis.\n"
      ]
    },
    {
      "cell_type": "code",
      "metadata": {
        "id": "P7taXUo3imQP",
        "outputId": "3d8722cc-2b72-4e70-c26e-14b2f8acdf89"
      },
      "source": [
        "print(\"Hello %s {}. This meaning of life is %d\" %(string1, string2, 42))"
      ],
      "execution_count": null,
      "outputs": [
        {
          "name": "stdout",
          "output_type": "stream",
          "text": [
            "Hello World !. This meaning of life is 42\n"
          ]
        }
      ]
    },
    {
      "cell_type": "code",
      "metadata": {
        "id": "5Ihaubv8imQQ",
        "outputId": "a6981483-8dcc-4cb8-d3b2-aff739cef4f2"
      },
      "source": [
        "# Pretty Printing\n",
        "print('Print width 10: |%10s|'%'x')\n",
        "print('Print width 10: |%-10s|'%'x')\n",
        "print(\"The number pi = %.2f to 2 decimal places\"%3.1415)\n",
        "print(\"More space pi = %10.2f\"%3.1415)\n",
        "print(\"Pad pi with 0 = %010.2f\"%3.1415)"
      ],
      "execution_count": null,
      "outputs": [
        {
          "name": "stdout",
          "output_type": "stream",
          "text": [
            "Print width 10: |         x|\n",
            "Print width 10: |x         |\n",
            "The number pi = 3.14 to 2 decimal places\n",
            "More space pi =       3.14\n",
            "Pad pi with 0 = 0000003.14\n"
          ]
        }
      ]
    },
    {
      "cell_type": "markdown",
      "metadata": {
        "id": "9frugFZ8imQR"
      },
      "source": [
        "### String Methods"
      ]
    },
    {
      "cell_type": "code",
      "metadata": {
        "id": "4byx5acfimQW",
        "outputId": "1808a79f-2074-41eb-cd5a-997522d59304"
      },
      "source": [
        "# Repetitive printing\n",
        "print(\"Hello World! \"*5)\n",
        "\n",
        "# String Transformations\n",
        "s=\"hello wOrld\"\n",
        "print(s.capitalize())\n",
        "print(s.capitalize())\n",
        "print(s.upper())\n",
        "print(s.lower())\n",
        "print('%s' % \"Hello World\".center(30))\n",
        "print('%s'% \"     lots of space             \".strip())\n",
        "print(\"Hello World\".replace(\"World\", \"Class\"))"
      ],
      "execution_count": null,
      "outputs": [
        {
          "name": "stdout",
          "output_type": "stream",
          "text": [
            "Hello World! Hello World! Hello World! Hello World! Hello World! \n",
            "Hello world\n",
            "Hello world\n",
            "HELLO WORLD\n",
            "hello world\n",
            "         Hello World          \n",
            "lots of space\n",
            "Hello Class\n"
          ]
        }
      ]
    },
    {
      "cell_type": "markdown",
      "metadata": {
        "id": "aobL8JdZimQY"
      },
      "source": [
        "### String Slicing\n",
        "Accessing parts of strings."
      ]
    },
    {
      "cell_type": "code",
      "metadata": {
        "id": "oP7WicKZimQY",
        "outputId": "44be73a8-447e-4640-c1ed-451db90f9748"
      },
      "source": [
        "s = '123456789'\n",
        "\n",
        "# String Index\n",
        "print('First charcter of', s, 'is', s[0])\n",
        "print('Last charcter of', s, 'is', s[len(s)-1], \"\\n\")\n",
        "\n",
        "# Negative Indices\n",
        "print('First charcter of', s,'is', s[-len(s)])\n",
        "print('Last charcter of', s,'is', s[-1], \"\\n\")\n",
        "\n",
        "# String Slicing\n",
        "print(\"First three charcters:\", s[0:3])\n",
        "print(\"Next three characters:\", s[3:6])\n",
        "\n",
        "print(\"First three characters:\", s[:3])\n",
        "print(\"Last three characters:\", s[-3:])"
      ],
      "execution_count": null,
      "outputs": [
        {
          "name": "stdout",
          "output_type": "stream",
          "text": [
            "First charcter of 123456789 is 1\n",
            "Last charcter of 123456789 is 9 \n",
            "\n",
            "First charcter of 123456789 is 1\n",
            "Last charcter of 123456789 is 9 \n",
            "\n",
            "First three charcters: 123\n",
            "Next three characters: 456\n",
            "First three characters: 123\n",
            "Last three characters: 789\n"
          ]
        }
      ]
    },
    {
      "cell_type": "code",
      "metadata": {
        "id": "vaDt0_OximQa"
      },
      "source": [
        "s = '123456789'"
      ],
      "execution_count": null,
      "outputs": []
    },
    {
      "cell_type": "code",
      "metadata": {
        "id": "vMCgU0l_imQb",
        "outputId": "250d815a-880c-498c-d2db-7bbe30ed2bdc"
      },
      "source": [
        "string = \"Hello World!\"\n",
        "a = string[:]"
      ],
      "execution_count": null,
      "outputs": [
        {
          "data": {
            "text/plain": [
              "'Hello World!'"
            ]
          },
          "execution_count": 30,
          "metadata": {},
          "output_type": "execute_result"
        }
      ]
    },
    {
      "cell_type": "markdown",
      "metadata": {
        "id": "m_9QOO6bimQb"
      },
      "source": [
        "### Strings are Immutatble\n",
        "\n",
        "It is important to note that strings are constant, immutable values in Python. While new strings can easily be created it is not possible to modify an existing string."
      ]
    },
    {
      "cell_type": "code",
      "metadata": {
        "id": "jKVF1RsRimQd",
        "outputId": "3aecf9b6-8234-4638-b1f5-463e378e8016"
      },
      "source": [
        "s = '012345'\n",
        "\n",
        "sX = s[:2] + 'X' + s[3:]\n",
        "print(\"Creating new string\", sX, \"OK\")\n",
        "\n",
        "sX = s.replace('2','X')\n",
        "print(sX, \"Still OK\")"
      ],
      "execution_count": null,
      "outputs": [
        {
          "name": "stdout",
          "output_type": "stream",
          "text": [
            "Creating new string 01X345 OK\n",
            "01X345 Still OK\n"
          ]
        }
      ]
    },
    {
      "cell_type": "code",
      "metadata": {
        "id": "yDlugYnmimQe",
        "outputId": "285e5348-85c4-48cb-8164-20acab2c9dd1"
      },
      "source": [
        "name = \"PranavPranavPranavPranavPranavPranavPranavPranavPranavPranavPranavPranavPranavPranavPranavPranavPranavPranavPranavPranavPranavPranav\"\n",
        "counter = name.count('a')\n",
        "name.replace('a', 'XX', int(counter/2))"
      ],
      "execution_count": null,
      "outputs": [
        {
          "data": {
            "text/plain": [
              "'PrXXnXXvPrXXnXXvPrXXnXXvPrXXnXXvPrXXnXXvPrXXnXXvPrXXnXXvPrXXnXXvPrXXnXXvPrXXnXXvPrXXnXXvPranavPranavPranavPranavPranavPranavPranavPranavPranavPranavPranav'"
            ]
          },
          "execution_count": 74,
          "metadata": {},
          "output_type": "execute_result"
        }
      ]
    },
    {
      "cell_type": "code",
      "metadata": {
        "id": "JuK7gpIjimQf",
        "outputId": "2f337a93-c5b7-4f20-d269-c84303cd70ce"
      },
      "source": [
        "print(13/2)\n",
        "print(13//2)"
      ],
      "execution_count": null,
      "outputs": [
        {
          "name": "stdout",
          "output_type": "stream",
          "text": [
            "6.5\n",
            "6\n"
          ]
        }
      ]
    },
    {
      "cell_type": "code",
      "metadata": {
        "id": "Aln02dQ8imQg",
        "outputId": "9e533b31-2ee5-4e91-d269-cb4e148147b8"
      },
      "source": [
        "print('PrXXnav')"
      ],
      "execution_count": null,
      "outputs": [
        {
          "name": "stdout",
          "output_type": "stream",
          "text": [
            "PrXXnav\n"
          ]
        }
      ]
    },
    {
      "cell_type": "code",
      "metadata": {
        "id": "qfNG-hChimQg",
        "outputId": "702cffcb-fd57-474c-bbc2-28eb10b6ff31"
      },
      "source": [
        "s[2] = 'X'"
      ],
      "execution_count": null,
      "outputs": [
        {
          "ename": "TypeError",
          "evalue": "'str' object does not support item assignment",
          "output_type": "error",
          "traceback": [
            "\u001b[0;31m---------------------------------------------------------------------------\u001b[0m",
            "\u001b[0;31mTypeError\u001b[0m                                 Traceback (most recent call last)",
            "\u001b[0;32m<ipython-input-37-c539b1a8912b>\u001b[0m in \u001b[0;36m<module>\u001b[0;34m()\u001b[0m\n\u001b[0;32m----> 1\u001b[0;31m \u001b[0ms\u001b[0m\u001b[0;34m[\u001b[0m\u001b[0;36m2\u001b[0m\u001b[0;34m]\u001b[0m \u001b[0;34m=\u001b[0m \u001b[0;34m'X'\u001b[0m\u001b[0;34m\u001b[0m\u001b[0m\n\u001b[0m",
            "\u001b[0;31mTypeError\u001b[0m: 'str' object does not support item assignment"
          ]
        }
      ]
    },
    {
      "cell_type": "markdown",
      "metadata": {
        "id": "lfI2jyiJimQh"
      },
      "source": [
        "## Data Structures\n",
        "\n",
        "A collection or group of data in a particular structure."
      ]
    },
    {
      "cell_type": "markdown",
      "metadata": {
        "id": "5eOhl2FPimQh"
      },
      "source": [
        "### Lists\n",
        "\n",
        "A sequence of data that is enclosed in square brackets and data are separated by a comma. Each of these data can be accessed by calling it's index value.\n",
        "\n",
        "Lists are declared by just equating a variable to '[ ]' or list."
      ]
    },
    {
      "cell_type": "code",
      "metadata": {
        "id": "78OBKxcEimQh",
        "outputId": "bb2ae0cd-d752-408c-c223-d1e3f30bc9c1"
      },
      "source": [
        "a = []\n",
        "type(a)"
      ],
      "execution_count": null,
      "outputs": [
        {
          "data": {
            "text/plain": [
              "list"
            ]
          },
          "execution_count": 41,
          "metadata": {},
          "output_type": "execute_result"
        }
      ]
    },
    {
      "cell_type": "code",
      "metadata": {
        "id": "XK-H1lHpimQl",
        "outputId": "8d544c7c-bae5-4e94-9e9a-29d5e2d50094"
      },
      "source": [
        "x = [['apple', 'orange', 1, 2], ['carrot', 'potato', 1.0]]\n",
        "\n",
        "# Indexing\n",
        "print(x[0])\n",
        "print(x[-1])\n",
        "\n",
        "# Nested lists\n",
        "y = ['carrot', 'potato', 1.0]\n",
        "z = [x, y]\n",
        "print(z)\n",
        "print(z[0][1])\n",
        "\n",
        "# Slicing\n",
        "print(\"\\nSlicing\")\n",
        "num = [0,1,2,3,4,5,6,7,8,9]\n",
        "print(num[0:4])\n",
        "print(num[4:])\n",
        "print(num[0:9+1:3])"
      ],
      "execution_count": null,
      "outputs": [
        {
          "name": "stdout",
          "output_type": "stream",
          "text": [
            "apple\n",
            "2\n",
            "[['apple', 'orange', 1, 2], ['carrot', 'potato', 1.0]]\n",
            "orange\n",
            "\n",
            "Slicing\n",
            "[0, 1, 2, 3]\n",
            "[4, 5, 6, 7, 8, 9]\n",
            "[0, 3, 6, 9]\n"
          ]
        }
      ]
    },
    {
      "cell_type": "code",
      "metadata": {
        "id": "gFrE5PzPimQo",
        "outputId": "697be892-ade5-46fe-c75f-edf63a65d6f8"
      },
      "source": [
        "# List Functions\n",
        "print(len(num))\n",
        "print(\"min =\" , min(num),\n",
        "      \"max =\", max(num),\n",
        "      \"total =\", sum(num))\n",
        "\n",
        "# Concatenation\n",
        "list1 = [1,2,3] + [5,4,7]\n",
        "print(list1)"
      ],
      "execution_count": null,
      "outputs": [
        {
          "name": "stdout",
          "output_type": "stream",
          "text": [
            "10\n",
            "min = 0 max = 9 total = 45\n",
            "[1, 2, 3, 5, 4, 7]\n"
          ]
        }
      ]
    },
    {
      "cell_type": "code",
      "metadata": {
        "id": "edvFJkJXimQp",
        "colab": {
          "base_uri": "https://localhost:8080/"
        },
        "outputId": "913b805b-a27a-422f-84f0-f3d18060e4e1"
      },
      "source": [
        "# IN – There or not?\n",
        "names = ['Earth','Air','Fire','Water', 'Space']\n",
        "print('fire' in names)\n",
        "print('Space' in names)"
      ],
      "execution_count": null,
      "outputs": [
        {
          "output_type": "stream",
          "name": "stdout",
          "text": [
            "False\n",
            "True\n"
          ]
        }
      ]
    },
    {
      "cell_type": "markdown",
      "metadata": {
        "id": "8Wa394mjimQs"
      },
      "source": [
        "A string can be converted into a list by using the **`list()`** function, or more usefully using the **`split()`** method, which breaks strings up based on spaces."
      ]
    },
    {
      "cell_type": "code",
      "metadata": {
        "id": "0ORGp4KPimQs",
        "outputId": "b103e8a7-8483-434c-b0b2-c2404b7774e2"
      },
      "source": [
        "print(list('hello world !'),\n",
        "      'Helo   World !!'.split('l'))\n",
        "\"\"\n",
        "\" \""
      ],
      "execution_count": null,
      "outputs": [
        {
          "name": "stdout",
          "output_type": "stream",
          "text": [
            "['h', 'e', 'l', 'l', 'o', ' ', 'w', 'o', 'r', 'l', 'd', ' ', '!'] ['He', 'o   Wor', 'd !!']\n"
          ]
        },
        {
          "data": {
            "text/plain": [
              "' '"
            ]
          },
          "execution_count": 84,
          "metadata": {},
          "output_type": "execute_result"
        }
      ]
    },
    {
      "cell_type": "code",
      "metadata": {
        "id": "2ckn8NAIimQt",
        "outputId": "c7220610-42c0-498d-d6a1-81c3d9b7b40d"
      },
      "source": [
        "# Appending a value\n",
        "lst = [1, 1, 4, 8, 7]\n",
        "lst.append([1, 2])\n",
        "print(lst)\n",
        "\n",
        "# Adding multiple elements\n",
        "lst.extend([10, 11, 12])\n",
        "print(lst)\n",
        "\n",
        "# Adding element at a specific location\n",
        "lst.insert(5, 'name')\n",
        "print(lst)\n",
        "\n",
        "lst[5] = 'Python' #overwrites value\n",
        "print(lst)\n",
        "\n",
        "# Last element of the list\n",
        "lst.pop()\n",
        "lst.remove('Python')\n",
        "print(lst)\n",
        "\n",
        "# Deleting an element\n",
        "del lst[1]\n",
        "print(lst)"
      ],
      "execution_count": null,
      "outputs": [
        {
          "name": "stdout",
          "output_type": "stream",
          "text": [
            "[1, 1, 4, 8, 7, [1, 2]]\n",
            "[1, 1, 4, 8, 7, [1, 2], 10, 11, 12]\n",
            "[1, 1, 4, 8, 7, 'name', [1, 2], 10, 11, 12]\n",
            "[1, 1, 4, 8, 7, 'Python', [1, 2], 10, 11, 12]\n",
            "[1, 1, 4, 8, 7, [1, 2], 10, 11]\n",
            "[1, 4, 8, 7, [1, 2], 10, 11]\n"
          ]
        }
      ]
    },
    {
      "cell_type": "markdown",
      "metadata": {
        "id": "Fsp0OIjJimQu"
      },
      "source": [
        "#### Sorting Elements in a List\n",
        "\n",
        "Python offers built in operation `sort( )` to arrange the elements in ascending order. Alternatively, `sorted()` can be used to construct a copy of the list in sorted order."
      ]
    },
    {
      "cell_type": "code",
      "metadata": {
        "id": "z_mUIW_SimQu",
        "outputId": "49bd5e24-a16f-4088-9410-806e82761780"
      },
      "source": [
        "# Reversing the List\n",
        "lst.reverse()\n",
        "print(lst)\n",
        "\n",
        "# Sorting the list\n",
        "lst.sort()\n",
        "print(lst)\n",
        "print(sorted([3,2,1]))\n",
        "\n",
        "# Reverse sorting\n",
        "lst.sort(reverse=True)\n",
        "print(lst)\n",
        "\n",
        "# Sorting Strings\n",
        "names.sort()\n",
        "print(names)\n",
        "\n",
        "names.sort(reverse=True)\n",
        "print(names)"
      ],
      "execution_count": null,
      "outputs": [
        {
          "name": "stdout",
          "output_type": "stream",
          "text": [
            "[11, 10, 1, 7, 8, 4, 1]\n",
            "[1, 1, 4, 7, 8, 10, 11]\n",
            "[1, 2, 3]\n",
            "[11, 10, 8, 7, 4, 1, 1]\n",
            "['Air', 'Earth', 'Fire', 'Water']\n",
            "['Water', 'Fire', 'Earth', 'Air']\n"
          ]
        }
      ]
    },
    {
      "cell_type": "markdown",
      "metadata": {
        "id": "HC-Jr495imQu"
      },
      "source": [
        "#### Copying a List\n",
        "Assignment of a list does not imply copying. It simply creates a second reference to the same list. Most of new python programmers get caught out by this initially. Consider the following."
      ]
    },
    {
      "cell_type": "code",
      "metadata": {
        "id": "ZUFKsl0ZimQv",
        "outputId": "69c0b2cc-bb44-4bd1-95c0-1cab37b30244"
      },
      "source": [
        "lista= [2,7,4,3, 4, 5, 6]\n",
        "listb = lista\n",
        "print(listb)"
      ],
      "execution_count": null,
      "outputs": [
        {
          "name": "stdout",
          "output_type": "stream",
          "text": [
            "[2, 7, 4, 3, 4, 5, 6]\n"
          ]
        }
      ]
    },
    {
      "cell_type": "code",
      "metadata": {
        "id": "Zjl_YFgXimQv",
        "outputId": "43132ece-240b-406a-ada2-8dfc5c8b5a1f"
      },
      "source": [
        "lista.sort()\n",
        "lista.pop()\n",
        "lista.append(9)\n",
        "\n",
        "print(\"A =\", lista)\n",
        "print(\"B =\", listb)"
      ],
      "execution_count": null,
      "outputs": [
        {
          "name": "stdout",
          "output_type": "stream",
          "text": [
            "A = [2, 3, 4, 4, 5, 6, 9]\n",
            "B = [2, 3, 4, 4, 5, 6, 9]\n"
          ]
        }
      ]
    },
    {
      "cell_type": "markdown",
      "metadata": {
        "id": "dLn_siyaimQw"
      },
      "source": [
        "`listb` has also changed though no operation has been performed on it. This is because you have assigned the same memory space of lista to listb. So how do fix this?\n",
        "\n",
        "If you recall, in slicing we had seen that `parentlist[a:b]` returns a list from parent list with start index a and end index b and if a and b is not mentioned then by default it considers the first and last element. We use the same concept here. By doing so, we are assigning the data of lista to listb as a variable."
      ]
    },
    {
      "cell_type": "code",
      "metadata": {
        "id": "E92nsf3WimQw",
        "outputId": "385ca77f-2c8b-49bc-ab55-6499c6bee021"
      },
      "source": [
        "lista = [2,1,4,3]\n",
        "listb = lista[:] #Make a copy of list\n",
        "\n",
        "print(\"Starting with:\")\n",
        "print(\"A =\", lista)\n",
        "print(\"B =\", listb, \"\\n\")\n",
        "\n",
        "lista.sort()\n",
        "lista.pop()\n",
        "lista.append(9)\n",
        "\n",
        "print(\"Finnished with:\")\n",
        "print(\"A =\", lista)\n",
        "print(\"B =\", listb)"
      ],
      "execution_count": null,
      "outputs": [
        {
          "name": "stdout",
          "output_type": "stream",
          "text": [
            "Starting with:\n",
            "A = [2, 1, 4, 3]\n",
            "B = [2, 1, 4, 3] \n",
            "\n",
            "Finnished with:\n",
            "A = [1, 2, 3, 9]\n",
            "B = [2, 1, 4, 3]\n"
          ]
        }
      ]
    },
    {
      "cell_type": "markdown",
      "metadata": {
        "id": "WiuPtngbimQw"
      },
      "source": [
        "### Tuples\n",
        "Tuples are similar to lists but only big difference is the elements inside a list can be changed but in tuple it cannot be changed. Think of tuples as something which has to be True for a particular something and cannot be True for no other values. For better understanding, Recall `divmod()` function."
      ]
    },
    {
      "cell_type": "code",
      "metadata": {
        "id": "-Vt4L2JZimQw",
        "outputId": "5a88ce6c-5e0f-48f8-a59d-28bd7b157953"
      },
      "source": [
        "xyz = divmod(-25, 4)\n",
        "print(xyz)\n",
        "print(type(xyz))"
      ],
      "execution_count": null,
      "outputs": [
        {
          "name": "stdout",
          "output_type": "stream",
          "text": [
            "(-7, 3)\n",
            "<class 'tuple'>\n"
          ]
        }
      ]
    },
    {
      "cell_type": "code",
      "metadata": {
        "id": "f5mbnqY-imQx",
        "outputId": "a02e1413-db6a-4168-8d63-c195095c02f9"
      },
      "source": [
        "xyz[0]"
      ],
      "execution_count": null,
      "outputs": [
        {
          "data": {
            "text/plain": [
              "3"
            ]
          },
          "execution_count": 41,
          "metadata": {},
          "output_type": "execute_result"
        }
      ]
    },
    {
      "cell_type": "code",
      "metadata": {
        "collapsed": true,
        "id": "_mY7yLDCimQx"
      },
      "source": [
        "# Initializing a tuple\n",
        "tup = ()\n",
        "tup2 = tuple()"
      ],
      "execution_count": null,
      "outputs": []
    },
    {
      "cell_type": "markdown",
      "metadata": {
        "id": "oezV9gemimQy"
      },
      "source": [
        "#### Mapping One Tuple to Another"
      ]
    },
    {
      "cell_type": "code",
      "metadata": {
        "id": "VBl1UMnNimQ1",
        "outputId": "9f4bb033-829c-41d5-f0b1-1a19730242dd"
      },
      "source": [
        "(a, b, c) = ('alpha','beta','gamma')\n",
        "a, b, c = 'alpha','beta','gamma'\n",
        "print(a, b, c)\n",
        "\n",
        "a, b, c = ['Alpha','Beta','Gamma']\n",
        "print(a, b, c)\n",
        "\n",
        "[a, b, c] = ('this','is','ok')\n",
        "print(a, b, c)\n",
        "\n",
        "# Complex Examples\n",
        "(w, (x,y), z)=(1, (2,3), 4)\n",
        "print(w, x, y, z)\n",
        "\n",
        "(w, xy, z)=(1, (2,3), 4)\n",
        "print(w, xy, z)"
      ],
      "execution_count": null,
      "outputs": [
        {
          "name": "stdout",
          "output_type": "stream",
          "text": [
            "alpha beta gamma\n",
            "Alpha Beta Gamma\n",
            "this is ok\n",
            "1 2 3 4\n",
            "1 (2, 3) 4\n"
          ]
        }
      ]
    },
    {
      "cell_type": "markdown",
      "metadata": {
        "id": "W1QcVRuaimQ4"
      },
      "source": [
        "### Sets\n",
        "\n",
        "Sets are mainly used to eliminate repeated numbers in a sequence/list. It is also used to perform some standard set operations.\n",
        "\n",
        "Sets are declared as `set()` which will initialize a empty set. Also `set([sequence])` can be executed to declare a set with elements."
      ]
    },
    {
      "cell_type": "code",
      "metadata": {
        "id": "E8xP2lKBimQ4",
        "outputId": "aac6be1e-cc95-40b0-c103-9010bd826cd0"
      },
      "source": [
        "set1 = set()\n",
        "print(type(set1))\n",
        "\n",
        "# Declaring a set\n",
        "set0 = set([1,2,2,3,3,4])\n",
        "print(set0)"
      ],
      "execution_count": null,
      "outputs": [
        {
          "name": "stdout",
          "output_type": "stream",
          "text": [
            "<class 'set'>\n",
            "{1, 2, 3, 4}\n"
          ]
        }
      ]
    },
    {
      "cell_type": "code",
      "metadata": {
        "collapsed": true,
        "id": "fd4y20dkimQ5"
      },
      "source": [
        "a = {}\n",
        "b = {1, 2}"
      ],
      "execution_count": null,
      "outputs": []
    },
    {
      "cell_type": "code",
      "metadata": {
        "id": "CXtcM0ImimQ5",
        "outputId": "a8c17203-70e7-4de1-fba2-6b269f2626e0"
      },
      "source": [
        "type(a)"
      ],
      "execution_count": null,
      "outputs": [
        {
          "data": {
            "text/plain": [
              "dict"
            ]
          },
          "execution_count": 44,
          "metadata": {},
          "output_type": "execute_result"
        }
      ]
    },
    {
      "cell_type": "code",
      "metadata": {
        "id": "qjo-zqNGimQ6",
        "outputId": "22a35034-869b-4307-ff6b-1268741f771c"
      },
      "source": [
        "# Add element\n",
        "set1.add(0)\n",
        "print(set1)\n",
        "\n",
        "# Union of sets\n",
        "set1 = set([1,2,3])\n",
        "set2 = set([2,3,4,5])\n",
        "print(set1.union(set2))\n",
        "\n",
        "# Intersection of sets\n",
        "print(set1.intersection(set2))\n",
        "\n",
        "# Difference in sets\n",
        "print(set1.difference(set2))\n",
        "\n",
        "# Etc."
      ],
      "execution_count": null,
      "outputs": [
        {
          "name": "stdout",
          "output_type": "stream",
          "text": [
            "{0, 1, 2, 3}\n",
            "{1, 2, 3, 4, 5}\n",
            "{2, 3}\n",
            "{1}\n"
          ]
        }
      ]
    },
    {
      "cell_type": "markdown",
      "metadata": {
        "id": "OEFOrTfwimQ7"
      },
      "source": [
        "### Dictionaries\n",
        "Dictionaries are mappings between keys and items stored in the dictionaries. Alternatively one can think of dictionaries as sets in which something stored against every element of the set."
      ]
    },
    {
      "cell_type": "code",
      "metadata": {
        "id": "C5jkIpQvimQ7",
        "outputId": "0e402d8a-2bb0-4593-c566-087b99a36c1a"
      },
      "source": [
        "# Initialize a dictionary\n",
        "d = dict()\n",
        "d = {}\n",
        "print(type(d))\n",
        "\n",
        "d['abc'] = 3\n",
        "d[4] = \"A string\"\n",
        "print(d)"
      ],
      "execution_count": null,
      "outputs": [
        {
          "name": "stdout",
          "output_type": "stream",
          "text": [
            "<class 'dict'>\n",
            "{'abc': 3, 4: 'A string'}\n"
          ]
        }
      ]
    },
    {
      "cell_type": "code",
      "metadata": {
        "id": "bykhpYj8imQ7",
        "outputId": "c5f96e6b-1b4b-4932-aecd-5f0dc6d76917"
      },
      "source": [
        "d = { \"ABC\": {'One': 2, 'Two' : 3} , \"Sachin\" : 'Hundred'}\n",
        "print(d.pop(\"Sachin\"))\n",
        "print(d)"
      ],
      "execution_count": null,
      "outputs": [
        {
          "name": "stdout",
          "output_type": "stream",
          "text": [
            "Hundred\n",
            "{'ABC': {'One': 2, 'Two': 3}}\n"
          ]
        }
      ]
    },
    {
      "cell_type": "markdown",
      "metadata": {
        "id": "uGUPTurmimQ8"
      },
      "source": [
        "There are a number of alternative ways for specifying a dictionary including as a list of `(key,value)` tuples. To illustrate this we will start with two lists and form a set of tuples from them using the **`zip()`** function\n",
        "Two lists which are related can be merged to form a dictionary."
      ]
    },
    {
      "cell_type": "code",
      "metadata": {
        "id": "xADRN8vJimQ8",
        "outputId": "35e33f94-02cf-4ce9-8933-7b0e5b1116c6"
      },
      "source": [
        "names = ['One', 'Two', 'Three', 'Four', 'Five']\n",
        "numbers = [1, 2, 3, 4, 5]\n",
        "print([(name, number) for name, number in zip(names, numbers)])\n",
        "a1 = dict((name,number) for name,number in zip(names,numbers))\n",
        "print(a1)"
      ],
      "execution_count": null,
      "outputs": [
        {
          "name": "stdout",
          "output_type": "stream",
          "text": [
            "[('One', 1), ('Two', 2), ('Three', 3), ('Four', 4), ('Five', 5)]\n",
            "{'One': 1, 'Two': 2, 'Three': 3, 'Four': 4, 'Five': 5}\n"
          ]
        }
      ]
    },
    {
      "cell_type": "markdown",
      "metadata": {
        "id": "D5XaDEe6imQ8"
      },
      "source": [
        "Note that the ordering for this dictionary is not based on the order in which elements are added but on its own ordering (based on hash index ordering). It is best never to assume an ordering when iterating over elements of a dictionary."
      ]
    },
    {
      "cell_type": "code",
      "metadata": {
        "id": "Gcsf6FnrimQ9",
        "outputId": "2609b9f4-e1b9-4327-d047-00c2c95a6e4e"
      },
      "source": [
        "print(d.values())\n",
        "print(d.keys())\n",
        "print(d.pop(1))"
      ],
      "execution_count": null,
      "outputs": [
        {
          "name": "stdout",
          "output_type": "stream",
          "text": [
            "dict_values(['One', 'Two', 'Hundred'])\n",
            "dict_keys([1, 2, 100])\n",
            "One\n"
          ]
        }
      ]
    },
    {
      "cell_type": "markdown",
      "metadata": {
        "id": "iY2OboFOimQ9"
      },
      "source": [
        "## Control Flow Statements\n",
        "The key thing to note about Python's control flow statements and program structure is that it uses _indentation_ to mark blocks. Hence the amount of white space (space or tab characters) at the start of a line is very important."
      ]
    },
    {
      "cell_type": "markdown",
      "metadata": {
        "id": "SRF1w8DgimQ9"
      },
      "source": [
        "### If-Else Conditionals"
      ]
    },
    {
      "cell_type": "code",
      "metadata": {
        "id": "ESbQ0C4QimQ9",
        "outputId": "e0e47987-7667-4c94-e9ee-98508e4242d9"
      },
      "source": [
        "x = 10\n",
        "y = 12\n",
        "if x > y:\n",
        "    print(\"x > y\") \\\n",
        "elif x < y:\n",
        "    print(\"x < y\")\n",
        "    if x==10:\n",
        "        print (\"x = 10\")\n",
        "    else:\n",
        "        print (\"Invalid\")\n",
        "else:\n",
        "    print (\"x = y\")"
      ],
      "execution_count": null,
      "outputs": [
        {
          "name": "stdout",
          "output_type": "stream",
          "text": [
            "x < y\n",
            "x = 10\n"
          ]
        }
      ]
    },
    {
      "cell_type": "markdown",
      "metadata": {
        "id": "Qk-gmiEPimQ-"
      },
      "source": [
        "### for Loops\n",
        "\n",
        "```python\n",
        "for variable in something:\n",
        "    algorithm```\n",
        "    \n",
        "When looping over integers the **range()** function is useful which generates a range of integers:\n",
        "\n",
        "- `range(n) =  0, 1, ..., n-1`\n",
        "- `range(m, n) = m, m+1, ..., n-1`\n",
        "- `range(m, n, s) = m, m+s, m+2s, ..., m + ((n-m-1)//s) * s`"
      ]
    },
    {
      "cell_type": "code",
      "metadata": {
        "id": "WzFxikswimQ-",
        "colab": {
          "base_uri": "https://localhost:8080/"
        },
        "outputId": "e7e44aba-82b0-4a29-8dbf-a2cc984b496c"
      },
      "source": [
        "total = 0\n",
        "\n",
        "i_list = [1,2,3,4,6,6,8,8]\n",
        "j_list = [1,2,3,4,5,6,8,7]\n",
        "for i, j in zip(i_list, j_list):\n",
        "    total += i**j\n",
        "print(\"Total =\", total)"
      ],
      "execution_count": null,
      "outputs": [
        {
          "output_type": "stream",
          "name": "stdout",
          "text": [
            "Total = 18929088\n"
          ]
        }
      ]
    },
    {
      "cell_type": "code",
      "metadata": {
        "colab": {
          "base_uri": "https://localhost:8080/"
        },
        "id": "Us3jHrgtII13",
        "outputId": "a3bc47fb-75d5-4f0d-8249-8c048db4e489"
      },
      "source": [
        "hash(True)"
      ],
      "execution_count": null,
      "outputs": [
        {
          "output_type": "execute_result",
          "data": {
            "text/plain": [
              "1"
            ]
          },
          "metadata": {},
          "execution_count": 38
        }
      ]
    },
    {
      "cell_type": "code",
      "metadata": {
        "colab": {
          "base_uri": "https://localhost:8080/"
        },
        "id": "pYVnVemDJsOH",
        "outputId": "73b44807-2695-48d3-d8b3-bb355376f0ae"
      },
      "source": [
        "x =2\n",
        "y =3\n",
        "[] or False\n"
      ],
      "execution_count": null,
      "outputs": [
        {
          "output_type": "execute_result",
          "data": {
            "text/plain": [
              "False"
            ]
          },
          "metadata": {},
          "execution_count": 47
        }
      ]
    },
    {
      "cell_type": "code",
      "metadata": {
        "id": "5OS-8cSTimQ_",
        "outputId": "a6cffb0d-1009-4b11-8634-c16b5bd49aca"
      },
      "source": [
        "list_of_lists = [[1, 2, 3], [4, 5, 6], [7, 8, 9]]\n",
        "for list1 in list_of_lists:\n",
        "        print(list1)\n",
        "\n",
        "list_of_lists = [[1, 2, 3], [4, 5, 6], [7, 8, 9]]\n",
        "total=0\n",
        "for list1 in list_of_lists:\n",
        "    for x in list1:\n",
        "        total = total+x\n",
        "print(total)"
      ],
      "execution_count": null,
      "outputs": [
        {
          "name": "stdout",
          "output_type": "stream",
          "text": [
            "[1, 2, 3]\n",
            "[4, 5, 6]\n",
            "[7, 8, 9]\n",
            "45\n"
          ]
        }
      ]
    },
    {
      "cell_type": "markdown",
      "metadata": {
        "id": "OpPNNbfiimQ_"
      },
      "source": [
        "There are many helper functions that make **for** loops even more powerful and easy to use. For example **`enumerate()`**, **`zip()`**, **`sorted()`**, **`reversed()`**"
      ]
    },
    {
      "cell_type": "code",
      "metadata": {
        "id": "AE0rwOHpimRA",
        "outputId": "db8173f9-b479-44ad-c0f0-a44368d407d2"
      },
      "source": [
        "print(\"Reversed: \", end=\"\")\n",
        "for ch in reversed(\"abc\"):\n",
        "    print(ch, end=\";\")\n",
        "\n",
        "print(\"\\n\\nEnumerated: \")\n",
        "\n",
        "print(\"lalalala\")\n",
        "for ch in enumerate(reversed(\"abc\")):\n",
        "    print(\"=\", ch)\n",
        "\n",
        "print(\"\\n\\nZipped: \")\n",
        "for a,x in zip(\"abc\", \"xyz\"):\n",
        "    print(a, \":\", x)"
      ],
      "execution_count": null,
      "outputs": [
        {
          "name": "stdout",
          "output_type": "stream",
          "text": [
            "Reversed: c;b;a;\n",
            "\n",
            "Enumerated: \n",
            "lalalala\n",
            "= (0, 'c')\n",
            "= (1, 'b')\n",
            "= (2, 'a')\n",
            "\n",
            "\n",
            "Zipped: \n",
            "a : x\n",
            "b : y\n",
            "c : z\n"
          ]
        }
      ]
    },
    {
      "cell_type": "code",
      "metadata": {
        "id": "bzg1mtSTimRA",
        "outputId": "9c9a1f12-eab8-42b1-ef46-7ffb5a190148"
      },
      "source": [
        "print(reversed(list(enumerate(\"abc\"))))"
      ],
      "execution_count": null,
      "outputs": [
        {
          "name": "stdout",
          "output_type": "stream",
          "text": [
            "<list_reverseiterator object at 0x1029c5cc0>\n"
          ]
        }
      ]
    },
    {
      "cell_type": "markdown",
      "metadata": {
        "id": "ADLexSw1imRB"
      },
      "source": [
        "### while Loops\n",
        "```python\n",
        "while some_condition:  \n",
        "    algorithm```"
      ]
    },
    {
      "cell_type": "code",
      "metadata": {
        "id": "_Swv0XEZimRB",
        "outputId": "3ea0e977-f33f-41ac-8ad2-e20dca7fb262"
      },
      "source": [
        "i = 1\n",
        "while i < 3:\n",
        "    print(i ** 2)\n",
        "    i = i+1\n",
        "print('Bye\n",
        "\n",
        "while True:\n",
        "    if player_a == 'loss':\n",
        "        break"
      ],
      "execution_count": null,
      "outputs": [
        {
          "name": "stdout",
          "output_type": "stream",
          "text": [
            "1\n",
            "4\n",
            "Bye\n"
          ]
        }
      ]
    },
    {
      "cell_type": "markdown",
      "metadata": {
        "id": "eV1CWHKbimRB"
      },
      "source": [
        "### Break and Continue\n",
        "\n",
        "As the name says. It is used to break out of a loop when a condition becomes true when executing the loop.\n",
        "\n",
        "This continues the rest of the loop. Sometimes when a condition is satisfied there are chances of the loop getting terminated. This can be avoided using continue statement."
      ]
    },
    {
      "cell_type": "code",
      "metadata": {
        "id": "KFMSvMk3imRL",
        "outputId": "b3c19a8e-397f-4a57-d4c5-404ed7033b09"
      },
      "source": [
        "for i in range(100):\n",
        "    print(i)\n",
        "    if i>=7:\n",
        "        break"
      ],
      "execution_count": null,
      "outputs": [
        {
          "name": "stdout",
          "output_type": "stream",
          "text": [
            "0\n",
            "1\n",
            "2\n",
            "3\n",
            "4\n",
            "5\n",
            "6\n",
            "7\n"
          ]
        }
      ]
    },
    {
      "cell_type": "code",
      "metadata": {
        "id": "rwkSI6KpimRP",
        "outputId": "062a38c9-206f-4af2-ee0e-2828995e8045"
      },
      "source": [
        "for i in range(10):\n",
        "    if i > 4:\n",
        "        print(\"Ignored\", i)\n",
        "        continue\n",
        "    # This statement is not reached if i > 4\n",
        "    print(\"Processed\", i)"
      ],
      "execution_count": null,
      "outputs": [
        {
          "name": "stdout",
          "output_type": "stream",
          "text": [
            "Processed 0\n",
            "Processed 1\n",
            "Processed 2\n",
            "Processed 3\n",
            "Processed 4\n",
            "Ignored 5\n",
            "Ignored 6\n",
            "Ignored 7\n",
            "Ignored 8\n",
            "Ignored 9\n"
          ]
        }
      ]
    },
    {
      "cell_type": "markdown",
      "metadata": {
        "id": "1cDPIQjDimRP"
      },
      "source": [
        "### Exception Handling\n",
        "\n",
        "To break out of deeply nested exectution sometimes it is useful to raise an exception.\n",
        "A try block allows you to catch exceptions that happen anywhere during the exeuction of the try block:\n",
        "\n",
        "```python\n",
        "try:\n",
        "    code\n",
        "except <Exception Type> as <variable name>:\n",
        "    # deal with error of this type\n",
        "except:\n",
        "    # deal with any error```"
      ]
    },
    {
      "cell_type": "code",
      "metadata": {
        "id": "9vW4-Z7LimRQ",
        "outputId": "64b16a14-69ce-4e56-cf1a-402c75b0fcf9"
      },
      "source": [
        "x = 0\n",
        "try:\n",
        "    inverse = 1.0/x\n",
        "    print(inverse)\n",
        "except ZeroDivisionError:\n",
        "    print(\"Cannot divide by zero!\")"
      ],
      "execution_count": null,
      "outputs": [
        {
          "name": "stdout",
          "output_type": "stream",
          "text": [
            "Cannot divide by zero!\n"
          ]
        }
      ]
    },
    {
      "cell_type": "code",
      "metadata": {
        "id": "nDTQ-b0pimRT",
        "outputId": "c7dcd3b2-00b5-492c-bffb-42424228dcf7"
      },
      "source": [
        "y = 0\n",
        "inverse = 1/y\n",
        "print(inverse)"
      ],
      "execution_count": null,
      "outputs": [
        {
          "ename": "ZeroDivisionError",
          "evalue": "division by zero",
          "output_type": "error",
          "traceback": [
            "\u001b[0;31m---------------------------------------------------------------------------\u001b[0m",
            "\u001b[0;31mZeroDivisionError\u001b[0m                         Traceback (most recent call last)",
            "\u001b[0;32m<ipython-input-147-b70e3cc0d921>\u001b[0m in \u001b[0;36m<module>\u001b[0;34m\u001b[0m\n\u001b[1;32m      1\u001b[0m \u001b[0my\u001b[0m \u001b[0;34m=\u001b[0m \u001b[0;36m0\u001b[0m\u001b[0;34m\u001b[0m\u001b[0;34m\u001b[0m\u001b[0m\n\u001b[0;32m----> 2\u001b[0;31m \u001b[0minverse\u001b[0m \u001b[0;34m=\u001b[0m \u001b[0;36m1\u001b[0m\u001b[0;34m/\u001b[0m\u001b[0my\u001b[0m\u001b[0;34m\u001b[0m\u001b[0;34m\u001b[0m\u001b[0m\n\u001b[0m\u001b[1;32m      3\u001b[0m \u001b[0mprint\u001b[0m\u001b[0;34m(\u001b[0m\u001b[0minverse\u001b[0m\u001b[0;34m)\u001b[0m\u001b[0;34m\u001b[0m\u001b[0;34m\u001b[0m\u001b[0m\n",
            "\u001b[0;31mZeroDivisionError\u001b[0m: division by zero"
          ]
        }
      ]
    },
    {
      "cell_type": "markdown",
      "metadata": {
        "id": "XRfjli7zimRT"
      },
      "source": [
        "## Functions\n",
        "\n",
        "A mechansim to allow code to be re-used so that complex programs can be built up out of simpler parts.\n",
        "\n",
        "This is the basic syntax of a function\n",
        "\n",
        "```python\n",
        "def funcname(arg1, arg2,... argN):\n",
        "    '''Document String'''\n",
        "    statements\n",
        "    return <value>```"
      ]
    },
    {
      "cell_type": "code",
      "metadata": {
        "id": "fpMs81qTimRU",
        "outputId": "9c559b0e-3124-44b8-9706-40353b5d56de"
      },
      "source": [
        "def firstfunc():\n",
        "    print(\"Hello Jack.\")\n",
        "    print(\"Jack, how are you?\")\n",
        "firstfunc()\n",
        "\n",
        "def powerPranav(x, y):\n",
        "    \"\"\"Pranav made this function!\"\"\"\n",
        "    #Calculate the power\n",
        "    z = x**y\n",
        "    return z\n",
        "print(powerPranav(2, 5))"
      ],
      "execution_count": null,
      "outputs": [
        {
          "name": "stdout",
          "output_type": "stream",
          "text": [
            "Hello Jack.\n",
            "Jack, how are you?\n",
            "32\n"
          ]
        }
      ]
    },
    {
      "cell_type": "code",
      "metadata": {
        "id": "vYJT0SzCimRV",
        "outputId": "bb7c581f-4bc2-41f8-a084-9c9ae6604172"
      },
      "source": [
        "help(powerPranav)"
      ],
      "execution_count": null,
      "outputs": [
        {
          "name": "stdout",
          "output_type": "stream",
          "text": [
            "Help on function powerPranav in module __main__:\n",
            "\n",
            "powerPranav(x, y)\n",
            "    Pranav made this function! B-)\n",
            "\n"
          ]
        }
      ]
    },
    {
      "cell_type": "code",
      "metadata": {
        "id": "mtaYRVTd_uvP"
      },
      "source": [
        "from math import pow\n",
        "a= math.pow(2, 3)"
      ],
      "execution_count": null,
      "outputs": []
    },
    {
      "cell_type": "code",
      "metadata": {
        "colab": {
          "base_uri": "https://localhost:8080/"
        },
        "id": "Z-zpCrMg_zsN",
        "outputId": "86990168-a985-436d-fd2c-f74a4a7a89b1"
      },
      "source": [
        "help(math.pow)"
      ],
      "execution_count": null,
      "outputs": [
        {
          "output_type": "stream",
          "name": "stdout",
          "text": [
            "Help on built-in function pow in module math:\n",
            "\n",
            "pow(x, y, /)\n",
            "    Return x**y (x to the power of y).\n",
            "\n"
          ]
        }
      ]
    },
    {
      "cell_type": "code",
      "metadata": {
        "id": "IsedAhvG__Go"
      },
      "source": [
        "def pow(a,b):\n",
        "    return a*b"
      ],
      "execution_count": null,
      "outputs": []
    },
    {
      "cell_type": "code",
      "metadata": {
        "colab": {
          "base_uri": "https://localhost:8080/"
        },
        "id": "KnfjGqXwAD_n",
        "outputId": "9644fba1-bcc7-4930-e3a1-ce4f2ab24481"
      },
      "source": [
        "math.pow(2,3)"
      ],
      "execution_count": null,
      "outputs": [
        {
          "output_type": "execute_result",
          "data": {
            "text/plain": [
              "8.0"
            ]
          },
          "metadata": {},
          "execution_count": 15
        }
      ]
    },
    {
      "cell_type": "code",
      "metadata": {
        "id": "FD0h4ofKimRV",
        "outputId": "db72c3a2-ba09-47c5-d8f7-6b427ca56ac3"
      },
      "source": [
        "# Default Arguments (Implicit Arguments)\n",
        "def implicitadd(x, y=3, z=0):\n",
        "    print(\"%d + %d + %d = %d\"%(x,y,z,x+y+z))\n",
        "    return None\n",
        "\n",
        "implicitadd(4, 4)\n",
        "implicitadd(4, 5, 6)\n",
        "implicitadd(2, y=1,z=9)"
      ],
      "execution_count": null,
      "outputs": [
        {
          "name": "stdout",
          "output_type": "stream",
          "text": [
            "4 + 4 + 0 = 8\n",
            "4 + 5 + 6 = 15\n",
            "2 + 1 + 9 = 12\n"
          ]
        }
      ]
    },
    {
      "cell_type": "code",
      "metadata": {
        "id": "2sDjMT7LimRV",
        "outputId": "e5b1c881-5506-44aa-acf9-fadb2e940f03"
      },
      "source": [
        "def haveBeer(litres, choice=True):\n",
        "    if choice == True:\n",
        "        print(\"Have %d litres beer\" %litres)\n",
        "\n",
        "haveBeer(5, choice=True)\n",
        "haveBeer(8)\n",
        "haveBeer(4, choice=False)"
      ],
      "execution_count": null,
      "outputs": [
        {
          "name": "stdout",
          "output_type": "stream",
          "text": [
            "Have 5 litres beer\n",
            "Have 8 litres beer\n"
          ]
        }
      ]
    },
    {
      "cell_type": "code",
      "metadata": {
        "id": "ntKUExc9imRW",
        "outputId": "7a2af6b4-8a07-402c-b22c-b35cd2f77b95"
      },
      "source": [
        "# Any Number of Arguments\n",
        "def add_n(first, second, *suri):\n",
        "    reslist = [first] + [second] + [value for value in suri]\n",
        "    print(reslist)\n",
        "    return sum(reslist)\n",
        "add_n(1,2,3,4,5,6,7,8,9)"
      ],
      "execution_count": null,
      "outputs": [
        {
          "name": "stdout",
          "output_type": "stream",
          "text": [
            "[1, 2, 3, 4, 5, 6, 7, 8, 9]\n"
          ]
        },
        {
          "data": {
            "text/plain": [
              "45"
            ]
          },
          "execution_count": 158,
          "metadata": {},
          "output_type": "execute_result"
        }
      ]
    },
    {
      "cell_type": "markdown",
      "metadata": {
        "id": "e1q5UsMximRW"
      },
      "source": [
        "### Lambda Functions\n",
        "\n",
        "A single expression whose result is returned. Lambda functions comes very handy when operating with lists. These function are defined by the keyword **lambda** followed by the variables, a colon and the respective expression."
      ]
    },
    {
      "cell_type": "code",
      "metadata": {
        "id": "n4M5LpuEimRX",
        "outputId": "ce4ed373-2e45-4793-ac47-a4327a84d2ec"
      },
      "source": [
        "import math\n",
        "z = lambda x: haveBeer(x * x)\n",
        "print(z(8))\n",
        "\n",
        "def z(x):\n",
        "    return x**2\n",
        "\n",
        "f = lambda y: y**2\n",
        "g = lambda z: 1/z\n",
        "fog = lambda x: f(g(x))\n",
        "print(fog(2))"
      ],
      "execution_count": null,
      "outputs": [
        {
          "name": "stdout",
          "output_type": "stream",
          "text": [
            "Have 64 litres beer\n",
            "None\n",
            "0.25\n"
          ]
        }
      ]
    },
    {
      "cell_type": "code",
      "metadata": {
        "id": "mOmQDHlhimRX",
        "outputId": "dc22b61c-da3c-42a7-acc6-8701120798d3"
      },
      "source": [
        "%%html\n",
        "<!--Formatting Cell (Ignore)-->\n",
        "<style>\n",
        "table {float:left}\n",
        "</style>"
      ],
      "execution_count": null,
      "outputs": [
        {
          "data": {
            "text/html": [
              "<!--Formatting Cell (Ignore)-->\n",
              "<style>\n",
              "table {float:left}\n",
              "</style>"
            ],
            "text/plain": [
              "<IPython.core.display.HTML object>"
            ]
          },
          "metadata": {},
          "output_type": "display_data"
        }
      ]
    },
    {
      "cell_type": "markdown",
      "metadata": {
        "id": "TYNG3H-bimRY"
      },
      "source": [
        "## List Comprehensions"
      ]
    },
    {
      "cell_type": "code",
      "metadata": {
        "id": "yEdvBntAimRY",
        "outputId": "d7e92b0a-c8f9-4721-aa98-a42b8792c9b5"
      },
      "source": [
        "%time\n",
        "myString = \"String\"\n",
        "myList = []\n",
        "for i in myString:\n",
        "    myList.append(i)\n",
        "myList"
      ],
      "execution_count": null,
      "outputs": [
        {
          "name": "stdout",
          "output_type": "stream",
          "text": [
            "CPU times: user 3 µs, sys: 0 ns, total: 3 µs\n",
            "Wall time: 15 µs\n"
          ]
        },
        {
          "data": {
            "text/plain": [
              "['S', 't', 'r', 'i', 'n', 'g']"
            ]
          },
          "execution_count": 160,
          "metadata": {},
          "output_type": "execute_result"
        }
      ]
    },
    {
      "cell_type": "code",
      "metadata": {
        "id": "hh4oNg-TimRY",
        "outputId": "a9abc8f1-f67a-470e-fa29-17e2766ad318"
      },
      "source": [
        "%time\n",
        "myList1 = [i for i in myString]\n",
        "myList1"
      ],
      "execution_count": null,
      "outputs": [
        {
          "name": "stdout",
          "output_type": "stream",
          "text": [
            "CPU times: user 3 µs, sys: 1 µs, total: 4 µs\n",
            "Wall time: 8.11 µs\n"
          ]
        },
        {
          "data": {
            "text/plain": [
              "['S', 't', 'r', 'i', 'n', 'g']"
            ]
          },
          "execution_count": 161,
          "metadata": {},
          "output_type": "execute_result"
        }
      ]
    },
    {
      "cell_type": "code",
      "metadata": {
        "id": "HiFeL9SyimRb",
        "outputId": "10e81e5f-df25-4670-8c5c-ed0e5ce465ec"
      },
      "source": [
        "divisibleBy3 = [n for n in range(0, 30) if n%3==0]\n",
        "divisibleBy3"
      ],
      "execution_count": null,
      "outputs": [
        {
          "data": {
            "text/plain": [
              "[0, 3, 6, 9, 12, 15, 18, 21, 24, 27]"
            ]
          },
          "execution_count": 7,
          "metadata": {},
          "output_type": "execute_result"
        }
      ]
    },
    {
      "cell_type": "code",
      "metadata": {
        "id": "nMf-4ImkimRe",
        "outputId": "54856d94-d2bd-40cb-9e01-99df0c2a3f5a"
      },
      "source": [
        "squareDivBy3 = [n**2 for n in reversed(range(0, 3000000)) if n%3==0]\n",
        "squareDivBy3"
      ],
      "execution_count": null,
      "outputs": [
        {
          "data": {
            "text/plain": [
              "[0, 9, 36, 81, 144, 225, 324, 441, 576, 729]"
            ]
          },
          "execution_count": 8,
          "metadata": {},
          "output_type": "execute_result"
        }
      ]
    },
    {
      "cell_type": "code",
      "metadata": {
        "id": "-h-SMjpvimRi",
        "outputId": "71fe0eaa-11a4-4554-b76d-255c8552825a"
      },
      "source": [
        "# Celcius to Farh.\n",
        "celcius = [0.0, 50, 25, 37]\n",
        "fahrenheit = [round(((9/5)*temp + 32), 2) for temp in celcius]\n",
        "fahrenheit"
      ],
      "execution_count": null,
      "outputs": [
        {
          "data": {
            "text/plain": [
              "[32.0, 122.0, 77.0, 98.6]"
            ]
          },
          "execution_count": 163,
          "metadata": {},
          "output_type": "execute_result"
        }
      ]
    },
    {
      "cell_type": "markdown",
      "metadata": {
        "id": "g3iS18iVimRj"
      },
      "source": [
        "## Map & Filter"
      ]
    },
    {
      "cell_type": "code",
      "metadata": {
        "id": "PNholOoRPKlI"
      },
      "source": [],
      "execution_count": null,
      "outputs": []
    },
    {
      "cell_type": "code",
      "metadata": {
        "id": "Y6ddSUONimRk",
        "colab": {
          "base_uri": "https://localhost:8080/"
        },
        "outputId": "2a29ba23-64fe-4f10-b847-87ff521059c5"
      },
      "source": [
        "# Map function\n",
        "%time\n",
        "square = lambda x: x**2\n",
        "myNumbers = [1,2,3,4,5,6,7,8]\n",
        "list(map(square, myNumbers))"
      ],
      "execution_count": null,
      "outputs": [
        {
          "output_type": "stream",
          "name": "stdout",
          "text": [
            "CPU times: user 2 µs, sys: 0 ns, total: 2 µs\n",
            "Wall time: 5.25 µs\n"
          ]
        },
        {
          "output_type": "execute_result",
          "data": {
            "text/plain": [
              "[1, 4, 9, 16, 25, 36, 49, 64]"
            ]
          },
          "metadata": {},
          "execution_count": 4
        }
      ]
    },
    {
      "cell_type": "code",
      "metadata": {
        "id": "L3wklr2OimRk",
        "colab": {
          "base_uri": "https://localhost:8080/"
        },
        "outputId": "a25a43bf-0796-4b79-ea4a-14cfee102ac4"
      },
      "source": [
        "%time\n",
        "sq_list = []\n",
        "for i in myNumbers:\n",
        "    sq_list.append(square(i))"
      ],
      "execution_count": null,
      "outputs": [
        {
          "output_type": "stream",
          "name": "stdout",
          "text": [
            "CPU times: user 4 µs, sys: 1 µs, total: 5 µs\n",
            "Wall time: 9.78 µs\n"
          ]
        }
      ]
    },
    {
      "cell_type": "code",
      "metadata": {
        "id": "StDeqMy3imRl",
        "outputId": "f153d382-732e-4cb1-f4e1-c70ca39a76fa"
      },
      "source": [
        "def odd_even(number):\n",
        "    if number%2 == 0:\n",
        "        return 'EVEN'\n",
        "    else:\n",
        "        return 'ODD'\n",
        "\n",
        "list(map(odd_even, myNumbers))"
      ],
      "execution_count": null,
      "outputs": [
        {
          "data": {
            "text/plain": [
              "['ODD', 'EVEN', 'ODD', 'EVEN', 'ODD', 'EVEN', 'ODD', 'EVEN']"
            ]
          },
          "execution_count": 17,
          "metadata": {},
          "output_type": "execute_result"
        }
      ]
    },
    {
      "cell_type": "code",
      "metadata": {
        "id": "-QaQnXxDimRn",
        "colab": {
          "base_uri": "https://localhost:8080/"
        },
        "outputId": "dae00f30-e96f-41e1-c4c8-d2379912c0fa"
      },
      "source": [
        "def is_even(number):\n",
        "    return number%2 == 0\n",
        "list(filter(is_even, myNumbers))"
      ],
      "execution_count": null,
      "outputs": [
        {
          "output_type": "execute_result",
          "data": {
            "text/plain": [
              "[2, 4, 6, 8]"
            ]
          },
          "metadata": {},
          "execution_count": 20
        }
      ]
    },
    {
      "cell_type": "code",
      "metadata": {
        "colab": {
          "base_uri": "https://localhost:8080/"
        },
        "id": "xr-F5184GGzw",
        "outputId": "3772e2b6-a965-4413-b77c-53072d294e5a"
      },
      "source": [
        "a = [1,2,3,4,5,6,7,8,9]\n",
        "print(list(map(is_even, a)))\n",
        "print(list(filter(is_even, a)))"
      ],
      "execution_count": null,
      "outputs": [
        {
          "output_type": "stream",
          "name": "stdout",
          "text": [
            "[False, True, False, True, False, True, False, True, False]\n",
            "[2, 4, 6, 8]\n"
          ]
        }
      ]
    },
    {
      "cell_type": "markdown",
      "metadata": {
        "id": "IJ-zPBh8Qv73"
      },
      "source": []
    }
  ]
}